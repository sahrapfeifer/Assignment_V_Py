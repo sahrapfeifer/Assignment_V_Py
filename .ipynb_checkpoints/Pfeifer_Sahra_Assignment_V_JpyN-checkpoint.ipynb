{
 "cells": [
  {
   "cell_type": "markdown",
   "id": "27dab37b",
   "metadata": {},
   "source": [
    "---\n",
    "\n",
    "# DS400: Assignment V (Python)\n",
    "\n",
    "##### Sahra Pfeifer (Student ID: 4184977)\n",
    "##### February, 01.2023"
   ]
  },
  {
   "cell_type": "markdown",
   "id": "5fe310f0",
   "metadata": {},
   "source": [
    "---\n",
    "\n",
    "### Setting up a new GitHub repository\n",
    "\n",
    "\n",
    "<div class=\"alert alert-block alert-info\">\n",
    "    \n",
    "(1) Register on github.com in case you have not done this already.\n",
    "</div>"
   ]
  },
  {
   "cell_type": "code",
   "execution_count": 1,
   "id": "775a2cb1",
   "metadata": {},
   "outputs": [],
   "source": [
    "# Load relevant packages\n",
    "import numpy as np\n",
    "import pandas as pd\n",
    "import requests as r\n",
    "import time  "
   ]
  },
  {
   "cell_type": "markdown",
   "id": "df37148b",
   "metadata": {},
   "source": [
    "---\n",
    "<div class=\"alert alert-block alert-info\">\n",
    "    \n",
    "(2) Initialize a new public repository for this assignment on GitHub.\n",
    "</div>"
   ]
  },
  {
   "cell_type": "markdown",
   "id": "3c88eb8f",
   "metadata": {},
   "source": [
    "---\n",
    "<div class=\"alert alert-block alert-info\">\n",
    "    \n",
    "(3) For the following exercises of this assignment, follow the standard Git workflow (i.e., pull the latest\n",
    "version of the project to your local computer, then stage, commit, and push all the modifications that you\n",
    "make throughout the project). Every logical programming step should be well documented on GitHub\n",
    "with a meaningful commit message, so that other people (e.g., your course instructor) can follow and\n",
    "understand the development history. You can do this either using Shell commands or a Git GUI of your\n",
    "choice.\n",
    "</div>"
   ]
  },
  {
   "cell_type": "markdown",
   "id": "668aa2d3",
   "metadata": {},
   "source": [
    "---\n",
    "<div class=\"alert alert-block alert-info\">\n",
    "    \n",
    "(4) In the HTML file that you submit, include the hyperlink to the project repository (e.g., https://github.\n",
    "com/yourUserName/yourProjectName)\n",
    "</div>"
   ]
  },
  {
   "cell_type": "markdown",
   "id": "4395934a",
   "metadata": {},
   "source": [
    "---\n",
    "\n",
    "### Getting to know the API\n",
    "\n",
    "\n",
    "<div class=\"alert alert-block alert-info\">\n",
    "    \n",
    "(5) Visit the documentation website for the API provided by ticketmaster.com (see here). Familiarize yourself\n",
    "with the features and functionalities of the Ticketmaster Discovery API. Have a particular look at\n",
    "rate limits.\n",
    "</div>"
   ]
  },
  {
   "cell_type": "markdown",
   "id": "3fb68f41",
   "metadata": {},
   "source": [
    "All API keys are issued with a default quota of 5000 API calls per day and rate limitation of 5 requests per second. "
   ]
  },
  {
   "cell_type": "markdown",
   "id": "3361d313",
   "metadata": {},
   "source": [
    "---\n",
    "<div class=\"alert alert-block alert-info\">\n",
    "    \n",
    "(6) Whithin the scope of this assignment, you do not have to request your own API key. Instead retrieve\n",
    "a valid key from the API Explorer. This API key enables you to perform the GET requests needed\n",
    "throughout this assignment. Even though this API key is not secret per se (it is publicly visible on the\n",
    "API Explorer website), please comply to the common secrecy practices discussed in the lecture and the\n",
    "tutorial: Treat the API key as a secret token. Your API key should neither appear in the code that you\n",
    "are submitting nor in your public GitHub repository.\n",
    "</div>"
   ]
  },
  {
   "cell_type": "markdown",
   "id": "31395083",
   "metadata": {},
   "source": [
    "key is stored in a separate script (\"API_Explorer_Key.Py\")"
   ]
  },
  {
   "cell_type": "code",
   "execution_count": 3,
   "id": "40af2f3e",
   "metadata": {},
   "outputs": [],
   "source": [
    "# access the key from main script using:\n",
    "with open(\"API_Explorer_Key.py\") as script:\n",
    "  exec(script.readline())"
   ]
  },
  {
   "cell_type": "markdown",
   "id": "e39e3c4a",
   "metadata": {},
   "source": [
    "---\n",
    "\n",
    "### Interacting with the API - the basics\n",
    "\n",
    "\n",
    "<div class=\"alert alert-block alert-info\">\n",
    "    \n",
    "(7) Perform a first GET request, that searches for event venues in Germany (countryCode = \"DE\"). Extract\n",
    "the content from the response object and inspect the resulting list. Describe what you can see.      \n",
    "</div>"
   ]
  },
  {
   "cell_type": "code",
   "execution_count": 4,
   "id": "5c17749c",
   "metadata": {},
   "outputs": [],
   "source": [
    "import requests\n",
    "\n",
    "response = requests.get(\"https://app.ticketmaster.com/discovery/v2/venues/?\", \n",
    "                        params = {\"apikey\": TM_expl_key, \"countryCode\":\"DE\", \"locale\":\"*\"}).json()\n"
   ]
  },
  {
   "cell_type": "markdown",
   "id": "5191a8ce",
   "metadata": {},
   "source": [
    "We can see..."
   ]
  },
  {
   "cell_type": "markdown",
   "id": "80fb6989",
   "metadata": {},
   "source": [
    "---\n",
    "<div class=\"alert alert-block alert-info\">\n",
    "    \n",
    "(8) Extract the name, the city, the postalCode and address, as well as the url and the longitude\n",
    "and latitude of the venues to a data frame. This data frame should have the following structure:\n",
    "</div>"
   ]
  },
  {
   "cell_type": "code",
   "execution_count": 5,
   "id": "865dd805",
   "metadata": {},
   "outputs": [],
   "source": [
    "## Rows: 20\n",
    "## Columns: 7\n",
    "## $ name <chr> \"Gruenspan\", \"Huxleys Neue Welt\", \"Kleine Olympiahalle\", \"Z~\n",
    "## $ city <chr> \"Hamburg\", \"Berlin\", \"Munich\", \"Emmelshausen\", \"Mülheim\", \"~\n",
    "## $ postalCode <dbl> 22767, 10967, 80809, 56281, 45479, 76646, 68766, 44263, 542~\n",
    "## $ address <chr> \"Grosse Freiheit 58\", \"Hasenheide 107 – 113\", \"Spiridon-Lou~\n",
    "## $ url <chr> \"http://www.ticketmaster.de/venue/287155\", \"http://www.tick~\n",
    "## $ longitude <dbl> 9.958075, 13.421380, 11.550920, 7.556560, 6.874710, 8.59908~\n",
    "## $ latitude <dbl> 53.55188, 52.48639, 48.17543, 50.15544, 51.42778, 49.12692,~    \n"
   ]
  },
  {
   "cell_type": "code",
   "execution_count": 6,
   "id": "7a8df27e",
   "metadata": {},
   "outputs": [
    {
     "name": "stdout",
     "output_type": "stream",
     "text": [
      "                       name  \\\n",
      "0        Grosse Freiheit 36   \n",
      "1                 Gruenspan   \n",
      "2         Huxleys Neue Welt   \n",
      "3           Zentrum am Park   \n",
      "4  Stadthalle (Theatersaal)   \n",
      "5             Schlossgarten   \n",
      "6                Stadthalle   \n",
      "7                       FZW   \n",
      "8               Arena Trier   \n",
      "9             Eissporthalle   \n",
      "\n",
      "                                                 url  postalCode  \\\n",
      "0            http://www.ticketmaster.de/venue/287636       22767   \n",
      "1            http://www.ticketmaster.de/venue/287155       22767   \n",
      "2            http://www.ticketmaster.de/venue/286842       10967   \n",
      "3  https://www.ticketmaster.de/venue/zentrum-am-p...       56281   \n",
      "4  https://www.ticketmaster.de/venue/stadthalle-t...       45479   \n",
      "5  https://www.ticketmaster.de/venue/schlossgarte...       76646   \n",
      "6  https://www.ticketmaster.de/venue/stadthalle-h...       68766   \n",
      "7  https://www.ticketmaster.de/venue/fzw-dortmund...       44263   \n",
      "8  https://www.ticketmaster.de/venue/arena-trier-...       54292   \n",
      "9  https://www.ticketmaster.de/venue/eissporthall...       87700   \n",
      "\n",
      "           name                address  longitude   latitude  \n",
      "0       Hamburg     Grosse Freiheit 36   9.957905  53.551187  \n",
      "1       Hamburg     Grosse Freiheit 58   9.958075  53.551885  \n",
      "2        Berlin   Hasenheide 107 – 113  13.421380  52.486391  \n",
      "3  Emmelshausen  Rhein-Mosel-Straße 45   7.556560  50.155440  \n",
      "4       Mülheim  Theodor-Heuss-Platz 1   6.874710  51.427780  \n",
      "5      Bruchsal       Schloss Bruchsal   8.599080  49.126920  \n",
      "6    Hockenheim        Rathausstraße 3   8.549080  49.318490  \n",
      "7      Dortmund        Ritterstraße 20   7.450100  51.514810  \n",
      "8         Trier     Fort-Worth-Platz 1   6.664260  49.771830  \n",
      "9     Memmingen    Hühnerbergstraße 19  10.162930  47.979990  \n"
     ]
    }
   ],
   "source": [
    "# use pandas implemented function pd.json_normalize()\n",
    "venues_op = pd.json_normalize(response[\"_embedded\"], record_path=[\"venues\"])\n",
    "\n",
    "# Select desired columns:\n",
    "venues_op = venues_op[[\"name\",\"url\",\"postalCode\",\"city.name\",\"address.line1\",\"location.longitude\",\"location.latitude\"]]\n",
    "\n",
    "# change names:\n",
    "venues_op = venues_op.rename(columns={\"city.name\":\"name\", \"address.line1\":\"address\",\n",
    "  \"location.longitude\":\"longitude\",\"location.latitude\":\"latitude\"})\n",
    "\n",
    "# convert to numeric:\n",
    "colsnum = [\"postalCode\",\"longitude\",\"latitude\"]\n",
    "\n",
    "venues_op[colsnum] = venues_op[colsnum].apply(pd.to_numeric, errors=\"coerce\")\n",
    "\n",
    "# print first 10 results:\n",
    "print(venues_op.head(10))"
   ]
  },
  {
   "cell_type": "code",
   "execution_count": null,
   "id": "c54717e5",
   "metadata": {},
   "outputs": [],
   "source": []
  },
  {
   "cell_type": "markdown",
   "id": "c50d5cd4",
   "metadata": {},
   "source": [
    "---\n",
    "\n",
    "### Interacting with the API - advanced\n",
    "\n",
    "\n",
    "<div class=\"alert alert-block alert-info\">\n",
    "    \n",
    "(9) Have a closer look at the list element named page. Did your GET request from exercise (7) return all\n",
    "event locations in Germany? Obviously not - there are of course much more venues in Germany than\n",
    "those contained in this list. Your GET request only yielded the first results page containing the first\n",
    "20 out of several thousands of venues. Check the API documentation under the section Venue Search.\n",
    "How can you request the venues from the remaining results pages? Iterate over the results pages and\n",
    "perform GET requests for all venues in Germany. After each iteration, extract the seven variables name,\n",
    "city, postalCode, address, url, longitude, and latitude. Join the information in one large\n",
    "data frame. Print the first 10 rows and the shape of the resulting data frame. The resulting data frame\n",
    "should look something like this (note that the exact number of search results may have changed since\n",
    "this document has been last modified):\n",
    "</div>"
   ]
  },
  {
   "cell_type": "code",
   "execution_count": null,
   "id": "52cc6260",
   "metadata": {},
   "outputs": [],
   "source": [
    "## Rows: 12,671\n",
    "## Columns: 7\n",
    "## $ name <chr> \"Gruenspan\", \"Huxleys Neue Welt\", \"Kleine Olympiahalle\", \"Z~\n",
    "## $ city <chr> \"Hamburg\", \"Berlin\", \"Munich\", \"Emmelshausen\", \"Mülheim\", \"~\n",
    "## $ postalCode <dbl> 22767, 10967, 80809, 56281, 45479, 76646, 68766, 44263, 542~\n",
    "## $ address <chr> \"Grosse Freiheit 58\", \"Hasenheide 107 – 113\", \"Spiridon-Lou~\n",
    "## $ url <chr> \"http://www.ticketmaster.de/venue/287155\", \"http://www.tick~\n",
    "## $ longitude <dbl> 9.958075, 13.421380, 11.550920, 7.556560, 6.874710, 8.59908~\n",
    "## $ latitude <dbl> 53.55188, 52.48639, 48.17543, 50.15544, 51.42778, 49.12692,~"
   ]
  },
  {
   "cell_type": "code",
   "execution_count": 12,
   "id": "957507b6",
   "metadata": {},
   "outputs": [],
   "source": [
    "# load relevant package to stop time after each iteration:\n",
    "import time\n",
    "\n",
    "# store number of totalElements:\n",
    "n = int(response[\"page\"][\"totalElements\"])\n",
    "n\n",
    "\n",
    "# create object with desired columns:\n",
    "cols = [\"name\",\"url\",\"postalCode\",\"city.name\",\"address.line1\",\"location.longitude\",\"location.latitude\"]\n",
    "\n",
    "# create an empty list to contain all results\n",
    "list_all = [None] * ((n // 20) + (n % 20 > 0))\n",
    "list_none = [None] * ((n // 20) + (n % 20 > 0))\n",
    "# cols = [\"name\",\"url\",\"postalCode\",\"city.name\",\"address.line1\",\"location.longitude\",\"location.latitude\"]\n",
    "\n",
    "# loop over all pages and store the result in list\n",
    "for page in (np.arange((n // 20) + (n % 20 > 0))+1):\n",
    "      try:\n",
    "      # enforce a rate limit\n",
    "        time.sleep(.2)\n",
    "        # call the API and get the respective page\n",
    "        res_venues = requests.get(\"https://app.ticketmaster.com/discovery/v2/venues/?\", \n",
    "                          params = {\"apikey\": TM_expl_key, \"countryCode\":\"DE\",\"page\": page, \"locale\":\"*\" }).json()\n",
    "        # store search items in list:\n",
    "        list_all[page -1] = res_venues[\"_embedded\"]\n",
    "\n",
    "        list_none = [i for i in list_all if i is not None]\n",
    "    \n",
    "        venues_all = pd.json_normalize(list_none, record_path=[\"venues\"])\n",
    "        # extract desired columns\n",
    "        venues_all = venues_all[cols]\n",
    "    \n",
    "      except KeyError:\n",
    "             continue\n"
   ]
  },
  {
   "cell_type": "code",
   "execution_count": 13,
   "id": "6dfe0a73",
   "metadata": {},
   "outputs": [
    {
     "name": "stdout",
     "output_type": "stream",
     "text": [
      "                          name  \\\n",
      "0     Mies-van-der-Rohe-Schule   \n",
      "1  Willingen (Upland) Open Air   \n",
      "2  Häkken (Klubhaus St. Pauli)   \n",
      "3                   Club Volta   \n",
      "4         edel-optics.de Arena   \n",
      "5                      Kurhaus   \n",
      "6                     Junkyard   \n",
      "7        Kulturquartier Proton   \n",
      "8        Aula am Berliner Ring   \n",
      "9                     Metropol   \n",
      "\n",
      "                                                 url  postalCode  \\\n",
      "0  https://www.ticketmaster.de/venue/mies-van-der...     52068.0   \n",
      "1  https://www.ticketmaster.de/venue/willingen-up...     34508.0   \n",
      "2  https://www.ticketmaster.de/venue/hakken-klubh...     20359.0   \n",
      "3  https://www.ticketmaster.de/venue/club-volta-k...     51063.0   \n",
      "4  https://www.ticketmaster.de/venue/edel-opticsd...     21109.0   \n",
      "5  https://www.ticketmaster.de/venue/kurhaus-bern...      6406.0   \n",
      "6  https://www.ticketmaster.de/venue/junkyard-dor...     44145.0   \n",
      "7  https://www.ticketmaster.de/venue/kulturquarti...     70173.0   \n",
      "8  https://www.ticketmaster.de/venue/aula-am-berl...     40789.0   \n",
      "9  https://www.ticketmaster.de/venue/metropol-ber...     10777.0   \n",
      "\n",
      "               city                          address  longitude  latitude  \n",
      "0            Aachen               Neuköllner Str. 17    6.12308  50.78956  \n",
      "1         Willingen                   Vor den Weiden    8.60622  51.29061  \n",
      "2           Hamburg            Spielbudenplatz 21-22    9.96438  53.54941  \n",
      "3           Cologne  Schanzenstr. 6-20, Gebäude 2.10    7.01283  50.96650  \n",
      "4           Hamburg        Kurt-Emmerich-Platz 10-12   10.00251  53.49572  \n",
      "5          Bernburg                   Solbadstraße 2   11.73229  51.79884  \n",
      "6          Dortmund                Schlägelstraße 57    7.47287  51.53321  \n",
      "7         Stuttgart                   Königstraße 49    9.17513  48.77356  \n",
      "8  Monheim am Rhein                  Berliner Ring 7    6.88780  51.08591  \n",
      "9            Berlin                Nollendorfplatz 5   13.35052  52.49955  \n"
     ]
    }
   ],
   "source": [
    "# change names:\n",
    "venues_all = venues_all.rename(columns={\"city.name\":\"city\", \"address.line1\":\"address\",\n",
    "  \"location.longitude\":\"longitude\",\"location.latitude\":\"latitude\"})\n",
    "\n",
    "# convert to numeric:\n",
    "colsnum = [\"postalCode\",\"longitude\",\"latitude\"]\n",
    "\n",
    "venues_all[colsnum] = venues_all[colsnum].apply(pd.to_numeric, errors=\"coerce\")\n",
    "\n",
    "\n",
    "# print first 10 observations:\n",
    "print(venues_all.head(10))"
   ]
  },
  {
   "cell_type": "markdown",
   "id": "686e00c3",
   "metadata": {},
   "source": [
    "---\n",
    "\n",
    "###  Visualizing the extracted data\n",
    "\n",
    "\n",
    "<div class=\"alert alert-block alert-info\">\n",
    "    \n",
    "(10) Below, you can find code that produces a map of Germany. Add points to the map indicating the\n",
    "locations of the event venues across Germany.\n",
    "</div>"
   ]
  },
  {
   "cell_type": "markdown",
   "id": "923cf768",
   "metadata": {},
   "source": [
    "<div class=\"alert alert-block alert-info\">\n",
    "    \n",
    "(11) You will find that some coordinates lie way beyond the German borders and can be assumed to be faulty.\n",
    "Set coordinate values to NA where the value of longitude is outside the range (5.866, 15.042) or\n",
    "where the value of latitude is outside the range (47.270, 55.059) (these coordinate ranges have\n",
    "been derived from the extreme points of Germany as listed on Wikipedia (see here). For extreme points\n",
    "of other countries, see here).\n",
    "</div>"
   ]
  },
  {
   "cell_type": "code",
   "execution_count": null,
   "id": "5a43f11c",
   "metadata": {},
   "outputs": [],
   "source": [
    "# Python\n",
    "import geopandas as gpd\n",
    "# get a base map of Germany\n",
    "map = gpd.read_file(gpd.datasets.get_path(\"naturalearth_lowres\"))\n",
    "map = map[map.name == \"Germany\"]\n",
    "# plot the map\n",
    "map.plot(ax = ax)"
   ]
  },
  {
   "cell_type": "markdown",
   "id": "dbcdec88",
   "metadata": {},
   "source": [
    "---\n",
    "\n",
    "###  Event locations in other countries\n",
    "\n",
    "\n",
    "<div class=\"alert alert-block alert-info\">\n",
    "    \n",
    "(12) Repeat exercises (9)–(11) for another European country of your choice. (Hint: Clean code pays off! If\n",
    "you have coded the exercises efficiently, only very few adaptions need to be made.)\n",
    "</div>"
   ]
  }
 ],
 "metadata": {
  "kernelspec": {
   "display_name": "Python 3 (ipykernel)",
   "language": "python",
   "name": "python3"
  },
  "language_info": {
   "codemirror_mode": {
    "name": "ipython",
    "version": 3
   },
   "file_extension": ".py",
   "mimetype": "text/x-python",
   "name": "python",
   "nbconvert_exporter": "python",
   "pygments_lexer": "ipython3",
   "version": "3.9.12"
  }
 },
 "nbformat": 4,
 "nbformat_minor": 5
}
