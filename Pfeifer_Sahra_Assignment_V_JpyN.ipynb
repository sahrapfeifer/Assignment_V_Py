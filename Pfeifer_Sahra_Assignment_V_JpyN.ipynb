{
 "cells": [
  {
   "cell_type": "markdown",
   "id": "27dab37b",
   "metadata": {},
   "source": [
    "---\n",
    "\n",
    "# DS400: Assignment V (Python)\n",
    "\n",
    "##### Sahra Pfeifer (Student ID: 4184977)\n",
    "##### February, 01.2023"
   ]
  },
  {
   "cell_type": "markdown",
   "id": "5fe310f0",
   "metadata": {},
   "source": [
    "---\n",
    "\n",
    "### Setting up a new GitHub repository\n",
    "\n",
    "\n",
    "<div class=\"alert alert-block alert-info\">\n",
    "    \n",
    "(1) Register on github.com in case you have not done this already.\n",
    "</div>"
   ]
  },
  {
   "cell_type": "markdown",
   "id": "df37148b",
   "metadata": {},
   "source": [
    "---\n",
    "<div class=\"alert alert-block alert-info\">\n",
    "    \n",
    "(2) Initialize a new public repository for this assignment on GitHub.\n",
    "</div>"
   ]
  },
  {
   "cell_type": "markdown",
   "id": "3c88eb8f",
   "metadata": {},
   "source": [
    "---\n",
    "<div class=\"alert alert-block alert-info\">\n",
    "    \n",
    "(3) For the following exercises of this assignment, follow the standard Git workflow (i.e., pull the latest\n",
    "version of the project to your local computer, then stage, commit, and push all the modifications that you\n",
    "make throughout the project). Every logical programming step should be well documented on GitHub\n",
    "with a meaningful commit message, so that other people (e.g., your course instructor) can follow and\n",
    "understand the development history. You can do this either using Shell commands or a Git GUI of your\n",
    "choice.\n",
    "</div>"
   ]
  },
  {
   "cell_type": "markdown",
   "id": "668aa2d3",
   "metadata": {},
   "source": [
    "---\n",
    "<div class=\"alert alert-block alert-info\">\n",
    "    \n",
    "(4) In the HTML file that you submit, include the hyperlink to the project repository (e.g., https://github.\n",
    "com/yourUserName/yourProjectName)\n",
    "</div>"
   ]
  },
  {
   "cell_type": "markdown",
   "id": "4395934a",
   "metadata": {},
   "source": [
    "---\n",
    "\n",
    "### Getting to know the API\n",
    "\n",
    "\n",
    "<div class=\"alert alert-block alert-info\">\n",
    "    \n",
    "(5) Visit the documentation website for the API provided by ticketmaster.com (see here). Familiarize yourself\n",
    "with the features and functionalities of the Ticketmaster Discovery API. Have a particular look at\n",
    "rate limits.\n",
    "</div>"
   ]
  },
  {
   "cell_type": "markdown",
   "id": "3361d313",
   "metadata": {},
   "source": [
    "---\n",
    "<div class=\"alert alert-block alert-info\">\n",
    "    \n",
    "(6) Whithin the scope of this assignment, you do not have to request your own API key. Instead retrieve\n",
    "a valid key from the API Explorer. This API key enables you to perform the GET requests needed\n",
    "throughout this assignment. Even though this API key is not secret per se (it is publicly visible on the\n",
    "API Explorer website), please comply to the common secrecy practices discussed in the lecture and the\n",
    "tutorial: Treat the API key as a secret token. Your API key should neither appear in the code that you\n",
    "are submitting nor in your public GitHub repository.\n",
    "</div>"
   ]
  },
  {
   "cell_type": "markdown",
   "id": "e39e3c4a",
   "metadata": {},
   "source": [
    "---\n",
    "\n",
    "### Interacting with the API - the basics\n",
    "\n",
    "\n",
    "<div class=\"alert alert-block alert-info\">\n",
    "    \n",
    "(7) Perform a first GET request, that searches for event venues in Germany (countryCode = \"DE\"). Extract\n",
    "the content from the response object and inspect the resulting list. Describe what you can see.      \n",
    "</div>"
   ]
  },
  {
   "cell_type": "markdown",
   "id": "80fb6989",
   "metadata": {},
   "source": [
    "---\n",
    "<div class=\"alert alert-block alert-info\">\n",
    "    \n",
    "(8) Extract the name, the city, the postalCode and address, as well as the url and the longitude\n",
    "and latitude of the venues to a data frame. This data frame should have the following structure:\n",
    "    \n",
    "\n",
    "## Rows: 20\n",
    "## Columns: 7\n",
    "## $ name <chr> \"Gruenspan\", \"Huxleys Neue Welt\", \"Kleine Olympiahalle\", \"Z~\n",
    "## $ city <chr> \"Hamburg\", \"Berlin\", \"Munich\", \"Emmelshausen\", \"Mülheim\", \"~\n",
    "## $ postalCode <dbl> 22767, 10967, 80809, 56281, 45479, 76646, 68766, 44263, 542~\n",
    "## $ address <chr> \"Grosse Freiheit 58\", \"Hasenheide 107 – 113\", \"Spiridon-Lou~\n",
    "## $ url <chr> \"http://www.ticketmaster.de/venue/287155\", \"http://www.tick~\n",
    "## $ longitude <dbl> 9.958075, 13.421380, 11.550920, 7.556560, 6.874710, 8.59908~\n",
    "## $ latitude <dbl> 53.55188, 52.48639, 48.17543, 50.15544, 51.42778, 49.12692,~    \n",
    "</div>"
   ]
  },
  {
   "cell_type": "markdown",
   "id": "c50d5cd4",
   "metadata": {},
   "source": [
    "---\n",
    "\n",
    "### Interacting with the API - advanced\n",
    "\n",
    "\n",
    "<div class=\"alert alert-block alert-info\">\n",
    "    \n",
    "(9) Have a closer look at the list element named page. Did your GET request from exercise (7) return all\n",
    "event locations in Germany? Obviously not - there are of course much more venues in Germany than\n",
    "those contained in this list. Your GET request only yielded the first results page containing the first\n",
    "20 out of several thousands of venues. Check the API documentation under the section Venue Search.\n",
    "How can you request the venues from the remaining results pages? Iterate over the results pages and\n",
    "perform GET requests for all venues in Germany. After each iteration, extract the seven variables name,\n",
    "city, postalCode, address, url, longitude, and latitude. Join the information in one large\n",
    "data frame. Print the first 10 rows and the shape of the resulting data frame. The resulting data frame\n",
    "should look something like this (note that the exact number of search results may have changed since\n",
    "this document has been last modified):\n",
    "    \n",
    "    \n",
    "## Rows: 12,671\n",
    "## Columns: 7\n",
    "## $ name <chr> \"Gruenspan\", \"Huxleys Neue Welt\", \"Kleine Olympiahalle\", \"Z~\n",
    "## $ city <chr> \"Hamburg\", \"Berlin\", \"Munich\", \"Emmelshausen\", \"Mülheim\", \"~\n",
    "## $ postalCode <dbl> 22767, 10967, 80809, 56281, 45479, 76646, 68766, 44263, 542~\n",
    "## $ address <chr> \"Grosse Freiheit 58\", \"Hasenheide 107 – 113\", \"Spiridon-Lou~\n",
    "## $ url <chr> \"http://www.ticketmaster.de/venue/287155\", \"http://www.tick~\n",
    "## $ longitude <dbl> 9.958075, 13.421380, 11.550920, 7.556560, 6.874710, 8.59908~\n",
    "## $ latitude <dbl> 53.55188, 52.48639, 48.17543, 50.15544, 51.42778, 49.12692,~\n",
    "</div>"
   ]
  },
  {
   "cell_type": "markdown",
   "id": "686e00c3",
   "metadata": {},
   "source": [
    "---\n",
    "\n",
    "###  Visualizing the extracted data\n",
    "\n",
    "\n",
    "<div class=\"alert alert-block alert-info\">\n",
    "    \n",
    "(10) Below, you can find code that produces a map of Germany. Add points to the map indicating the\n",
    "locations of the event venues across Germany.\n",
    "</div>"
   ]
  },
  {
   "cell_type": "markdown",
   "id": "923cf768",
   "metadata": {},
   "source": [
    "<div class=\"alert alert-block alert-info\">\n",
    "    \n",
    "(11) You will find that some coordinates lie way beyond the German borders and can be assumed to be faulty.\n",
    "Set coordinate values to NA where the value of longitude is outside the range (5.866, 15.042) or\n",
    "where the value of latitude is outside the range (47.270, 55.059) (these coordinate ranges have\n",
    "been derived from the extreme points of Germany as listed on Wikipedia (see here). For extreme points\n",
    "of other countries, see here).\n",
    "</div>"
   ]
  },
  {
   "cell_type": "code",
   "execution_count": null,
   "id": "5a43f11c",
   "metadata": {},
   "outputs": [],
   "source": [
    "# Python\n",
    "import geopandas as gpd\n",
    "# get a base map of Germany\n",
    "map = gpd.read_file(gpd.datasets.get_path(\"naturalearth_lowres\"))\n",
    "map = map[map.name == \"Germany\"]\n",
    "# plot the map\n",
    "map.plot(ax = ax)"
   ]
  },
  {
   "cell_type": "markdown",
   "id": "dbcdec88",
   "metadata": {},
   "source": [
    "---\n",
    "\n",
    "###  Event locations in other countries\n",
    "\n",
    "\n",
    "<div class=\"alert alert-block alert-info\">\n",
    "    \n",
    "(12) Repeat exercises (9)–(11) for another European country of your choice. (Hint: Clean code pays off! If\n",
    "you have coded the exercises efficiently, only very few adaptions need to be made.)\n",
    "</div>"
   ]
  }
 ],
 "metadata": {
  "kernelspec": {
   "display_name": "Python 3 (ipykernel)",
   "language": "python",
   "name": "python3"
  },
  "language_info": {
   "codemirror_mode": {
    "name": "ipython",
    "version": 3
   },
   "file_extension": ".py",
   "mimetype": "text/x-python",
   "name": "python",
   "nbconvert_exporter": "python",
   "pygments_lexer": "ipython3",
   "version": "3.9.12"
  }
 },
 "nbformat": 4,
 "nbformat_minor": 5
}
